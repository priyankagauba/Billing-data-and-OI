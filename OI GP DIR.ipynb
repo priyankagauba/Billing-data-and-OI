{
 "cells": [
  {
   "cell_type": "code",
   "execution_count": 1,
   "metadata": {},
   "outputs": [],
   "source": [
    "import warnings\n",
    "warnings.filterwarnings('ignore')\n",
    "import pandas as pd\n",
    "import numpy as np                  \n",
    "import matplotlib.pyplot as plt                    # plots\n",
    "%matplotlib inline\n",
    "from datetime import datetime, timedelta\n",
    "from scipy import stats\n",
    "from math import sqrt\n",
    "from sklearn.metrics import mean_squared_error\n",
    "from numpy import array\n",
    "from sklearn.gaussian_process import GaussianProcessRegressor\n",
    "from sklearn.gaussian_process.kernels import RBF, ConstantKernel as C\n",
    "np.random.seed(1)"
   ]
  },
  {
   "cell_type": "code",
   "execution_count": 2,
   "metadata": {},
   "outputs": [],
   "source": [
    "data = pd.read_excel(r'C:\\Users\\u22v09\\Desktop\\Billing Data 2016 to July 2020.xlsx',skiprows=3)"
   ]
  },
  {
   "cell_type": "code",
   "execution_count": 3,
   "metadata": {},
   "outputs": [],
   "source": [
    "# data[['Customer Segment']].bfill(axis = 0) \n",
    "data['Customer Segment ']= data['Customer Segment '].fillna(method = \"ffill\")"
   ]
  },
  {
   "cell_type": "code",
   "execution_count": 4,
   "metadata": {},
   "outputs": [],
   "source": [
    "data.drop('Grand Total', axis = 1, inplace = True)\n",
    "data=pd.melt(data, id_vars =['Month','Customer Segment '])\n",
    "data=data.dropna()\n"
   ]
  },
  {
   "cell_type": "code",
   "execution_count": 5,
   "metadata": {},
   "outputs": [],
   "source": [
    "df=data.copy()\n",
    "df['Date'] =pd.to_datetime(df.variable.astype(str) + '/' + df.Month.astype(str) + '/01')\n",
    "\n"
   ]
  },
  {
   "cell_type": "code",
   "execution_count": 6,
   "metadata": {},
   "outputs": [],
   "source": [
    "df = df.sort_values('Date')\n",
    "df = df.set_index('Date')\n",
    "df=df.rename(columns={'value':'ASP','variable':'Year'})"
   ]
  },
  {
   "cell_type": "code",
   "execution_count": 7,
   "metadata": {
    "scrolled": true
   },
   "outputs": [
    {
     "data": {
      "text/html": [
       "<div>\n",
       "<style scoped>\n",
       "    .dataframe tbody tr th:only-of-type {\n",
       "        vertical-align: middle;\n",
       "    }\n",
       "\n",
       "    .dataframe tbody tr th {\n",
       "        vertical-align: top;\n",
       "    }\n",
       "\n",
       "    .dataframe thead th {\n",
       "        text-align: right;\n",
       "    }\n",
       "</style>\n",
       "<table border=\"1\" class=\"dataframe\">\n",
       "  <thead>\n",
       "    <tr style=\"text-align: right;\">\n",
       "      <th></th>\n",
       "      <th>Month</th>\n",
       "      <th>Customer Segment</th>\n",
       "      <th>Year</th>\n",
       "      <th>ASP</th>\n",
       "    </tr>\n",
       "    <tr>\n",
       "      <th>Date</th>\n",
       "      <th></th>\n",
       "      <th></th>\n",
       "      <th></th>\n",
       "      <th></th>\n",
       "    </tr>\n",
       "  </thead>\n",
       "  <tbody>\n",
       "    <tr>\n",
       "      <th>2016-01-01</th>\n",
       "      <td>Jan</td>\n",
       "      <td>DIR</td>\n",
       "      <td>2016</td>\n",
       "      <td>80.867485</td>\n",
       "    </tr>\n",
       "    <tr>\n",
       "      <th>2016-01-01</th>\n",
       "      <td>Jan</td>\n",
       "      <td>OEM</td>\n",
       "      <td>2016</td>\n",
       "      <td>0.000000</td>\n",
       "    </tr>\n",
       "    <tr>\n",
       "      <th>2016-01-01</th>\n",
       "      <td>Jan</td>\n",
       "      <td>Networking</td>\n",
       "      <td>2016</td>\n",
       "      <td>10.367355</td>\n",
       "    </tr>\n",
       "    <tr>\n",
       "      <th>2016-01-01</th>\n",
       "      <td>Jan</td>\n",
       "      <td>Govt.</td>\n",
       "      <td>2016</td>\n",
       "      <td>0.000000</td>\n",
       "    </tr>\n",
       "    <tr>\n",
       "      <th>2016-01-01</th>\n",
       "      <td>Jan</td>\n",
       "      <td>Service</td>\n",
       "      <td>2016</td>\n",
       "      <td>39.269113</td>\n",
       "    </tr>\n",
       "  </tbody>\n",
       "</table>\n",
       "</div>"
      ],
      "text/plain": [
       "           Month Customer Segment   Year        ASP\n",
       "Date                                               \n",
       "2016-01-01  Jan                DIR  2016  80.867485\n",
       "2016-01-01  Jan                OEM  2016   0.000000\n",
       "2016-01-01  Jan         Networking  2016  10.367355\n",
       "2016-01-01  Jan              Govt.  2016   0.000000\n",
       "2016-01-01  Jan            Service  2016  39.269113"
      ]
     },
     "execution_count": 7,
     "metadata": {},
     "output_type": "execute_result"
    }
   ],
   "source": [
    "df.head()"
   ]
  },
  {
   "cell_type": "code",
   "execution_count": 8,
   "metadata": {},
   "outputs": [],
   "source": [
    "def split_sequence(sequence, n_steps):\n",
    "    X, y = list(), list()\n",
    "    for i in range(len(sequence)):\n",
    "        end_ix = i + n_steps\n",
    "        if end_ix > len(sequence)-1:\n",
    "            break\n",
    "        seq_x, seq_y = sequence[i:end_ix], sequence[end_ix]\n",
    "        X.append(seq_x)\n",
    "        y.append(seq_y)\n",
    "    return array(X), array(y)"
   ]
  },
  {
   "cell_type": "code",
   "execution_count": 47,
   "metadata": {},
   "outputs": [
    {
     "data": {
      "text/html": [
       "<div>\n",
       "<style scoped>\n",
       "    .dataframe tbody tr th:only-of-type {\n",
       "        vertical-align: middle;\n",
       "    }\n",
       "\n",
       "    .dataframe tbody tr th {\n",
       "        vertical-align: top;\n",
       "    }\n",
       "\n",
       "    .dataframe thead th {\n",
       "        text-align: right;\n",
       "    }\n",
       "</style>\n",
       "<table border=\"1\" class=\"dataframe\">\n",
       "  <thead>\n",
       "    <tr style=\"text-align: right;\">\n",
       "      <th></th>\n",
       "      <th>0</th>\n",
       "      <th>1</th>\n",
       "      <th>2</th>\n",
       "      <th>3</th>\n",
       "      <th>4</th>\n",
       "      <th>5</th>\n",
       "      <th>6</th>\n",
       "      <th>7</th>\n",
       "      <th>8</th>\n",
       "      <th>9</th>\n",
       "    </tr>\n",
       "  </thead>\n",
       "  <tbody>\n",
       "    <tr>\n",
       "      <th>41</th>\n",
       "      <td>57.534152</td>\n",
       "      <td>77.380758</td>\n",
       "      <td>56.547062</td>\n",
       "      <td>65.652423</td>\n",
       "      <td>61.446451</td>\n",
       "      <td>97.236324</td>\n",
       "      <td>69.605557</td>\n",
       "      <td>40.338784</td>\n",
       "      <td>57.894122</td>\n",
       "      <td>44.468303</td>\n",
       "    </tr>\n",
       "    <tr>\n",
       "      <th>42</th>\n",
       "      <td>77.380758</td>\n",
       "      <td>56.547062</td>\n",
       "      <td>65.652423</td>\n",
       "      <td>61.446451</td>\n",
       "      <td>97.236324</td>\n",
       "      <td>69.605557</td>\n",
       "      <td>40.338784</td>\n",
       "      <td>57.894122</td>\n",
       "      <td>44.468303</td>\n",
       "      <td>0.000000</td>\n",
       "    </tr>\n",
       "    <tr>\n",
       "      <th>43</th>\n",
       "      <td>56.547062</td>\n",
       "      <td>65.652423</td>\n",
       "      <td>61.446451</td>\n",
       "      <td>97.236324</td>\n",
       "      <td>69.605557</td>\n",
       "      <td>40.338784</td>\n",
       "      <td>57.894122</td>\n",
       "      <td>44.468303</td>\n",
       "      <td>0.000000</td>\n",
       "      <td>6.430842</td>\n",
       "    </tr>\n",
       "    <tr>\n",
       "      <th>44</th>\n",
       "      <td>65.652423</td>\n",
       "      <td>61.446451</td>\n",
       "      <td>97.236324</td>\n",
       "      <td>69.605557</td>\n",
       "      <td>40.338784</td>\n",
       "      <td>57.894122</td>\n",
       "      <td>44.468303</td>\n",
       "      <td>0.000000</td>\n",
       "      <td>6.430842</td>\n",
       "      <td>48.785316</td>\n",
       "    </tr>\n",
       "    <tr>\n",
       "      <th>45</th>\n",
       "      <td>61.446451</td>\n",
       "      <td>97.236324</td>\n",
       "      <td>69.605557</td>\n",
       "      <td>40.338784</td>\n",
       "      <td>57.894122</td>\n",
       "      <td>44.468303</td>\n",
       "      <td>0.000000</td>\n",
       "      <td>6.430842</td>\n",
       "      <td>48.785316</td>\n",
       "      <td>65.772139</td>\n",
       "    </tr>\n",
       "  </tbody>\n",
       "</table>\n",
       "</div>"
      ],
      "text/plain": [
       "            0          1          2          3          4          5  \\\n",
       "41  57.534152  77.380758  56.547062  65.652423  61.446451  97.236324   \n",
       "42  77.380758  56.547062  65.652423  61.446451  97.236324  69.605557   \n",
       "43  56.547062  65.652423  61.446451  97.236324  69.605557  40.338784   \n",
       "44  65.652423  61.446451  97.236324  69.605557  40.338784  57.894122   \n",
       "45  61.446451  97.236324  69.605557  40.338784  57.894122  44.468303   \n",
       "\n",
       "            6          7          8          9  \n",
       "41  69.605557  40.338784  57.894122  44.468303  \n",
       "42  40.338784  57.894122  44.468303   0.000000  \n",
       "43  57.894122  44.468303   0.000000   6.430842  \n",
       "44  44.468303   0.000000   6.430842  48.785316  \n",
       "45   0.000000   6.430842  48.785316  65.772139  "
      ]
     },
     "execution_count": 47,
     "metadata": {},
     "output_type": "execute_result"
    }
   ],
   "source": [
    "df_dir =  df[df['Customer Segment '] == 'Service']\n",
    "# df_dir = pd.DataFrame(df_dir.groupby(['Year', 'Month'])['ASP'].sum()).reset_index()\n",
    "# df_dir['Date'] = pd.to_datetime(df_dir.Year.astype(str) + '/' + df_dir.Month.astype(str) + '/01')\n",
    "# df_dir = df_dir.sort_values('Date')\n",
    "# df_dir = df_dir.set_index('Date')\n",
    "df_dir = df_dir_plot =  df_dir[['ASP']]\n",
    "df_dir.index.freq = 'MS'\n",
    "\n",
    "raw_seq = list(df_dir['ASP'].values)\n",
    "n_steps = 9\n",
    "df_dir_X, df_dir_y = split_sequence(raw_seq, n_steps = n_steps)\n",
    "t =[]\n",
    "x =[]\n",
    "for i in range(len(df_dir_X)):\n",
    "    t.append(df_dir_X[i])\n",
    "    x.append(df_dir_y[i])\n",
    "inp = pd.DataFrame(t)\n",
    "# inp = inp.rename(columns= {0:'in'})\n",
    "out = pd.DataFrame(x)\n",
    "out = out.rename(columns= {0:9})\n",
    "df_dir = inp.merge(out, left_index = True, right_index = True)\n",
    "df_dir.tail()"
   ]
  },
  {
   "cell_type": "code",
   "execution_count": 48,
   "metadata": {},
   "outputs": [
    {
     "data": {
      "text/html": [
       "<div>\n",
       "<style scoped>\n",
       "    .dataframe tbody tr th:only-of-type {\n",
       "        vertical-align: middle;\n",
       "    }\n",
       "\n",
       "    .dataframe tbody tr th {\n",
       "        vertical-align: top;\n",
       "    }\n",
       "\n",
       "    .dataframe thead th {\n",
       "        text-align: right;\n",
       "    }\n",
       "</style>\n",
       "<table border=\"1\" class=\"dataframe\">\n",
       "  <thead>\n",
       "    <tr style=\"text-align: right;\">\n",
       "      <th></th>\n",
       "      <th>5</th>\n",
       "      <th>6</th>\n",
       "      <th>7</th>\n",
       "      <th>8</th>\n",
       "      <th>9</th>\n",
       "    </tr>\n",
       "  </thead>\n",
       "  <tbody>\n",
       "    <tr>\n",
       "      <th>45</th>\n",
       "      <td>44.468303</td>\n",
       "      <td>0.0</td>\n",
       "      <td>6.430842</td>\n",
       "      <td>48.785316</td>\n",
       "      <td>65.772139</td>\n",
       "    </tr>\n",
       "  </tbody>\n",
       "</table>\n",
       "</div>"
      ],
      "text/plain": [
       "            5    6         7          8          9\n",
       "45  44.468303  0.0  6.430842  48.785316  65.772139"
      ]
     },
     "execution_count": 48,
     "metadata": {},
     "output_type": "execute_result"
    }
   ],
   "source": [
    "x_in = df_dir[-1:][range(5,10)]\n",
    "x_in"
   ]
  },
  {
   "cell_type": "code",
   "execution_count": 49,
   "metadata": {
    "scrolled": true
   },
   "outputs": [
    {
     "data": {
      "text/plain": [
       "46"
      ]
     },
     "execution_count": 49,
     "metadata": {},
     "output_type": "execute_result"
    }
   ],
   "source": [
    "df_dir_X = df_dir[range(0,5)]\n",
    "df_dir_X = np.atleast_2d(df_dir_X.values)\n",
    "len(df_dir_X)"
   ]
  },
  {
   "cell_type": "code",
   "execution_count": 50,
   "metadata": {},
   "outputs": [
    {
     "data": {
      "text/plain": [
       "(46, 5)"
      ]
     },
     "execution_count": 50,
     "metadata": {},
     "output_type": "execute_result"
    }
   ],
   "source": [
    "df_dir_X.shape"
   ]
  },
  {
   "cell_type": "code",
   "execution_count": 51,
   "metadata": {},
   "outputs": [
    {
     "data": {
      "text/plain": [
       "46"
      ]
     },
     "execution_count": 51,
     "metadata": {},
     "output_type": "execute_result"
    }
   ],
   "source": [
    "df_dir_y = df_dir[range(5,10)]\n",
    "df_dir_y = np.atleast_2d(df_dir_y.values)\n",
    "len(df_dir_y)"
   ]
  },
  {
   "cell_type": "code",
   "execution_count": 52,
   "metadata": {},
   "outputs": [],
   "source": [
    "df_dir_train_X = df_dir_X\n",
    "df_dir_train_y = df_dir_y"
   ]
  },
  {
   "cell_type": "code",
   "execution_count": 53,
   "metadata": {},
   "outputs": [
    {
     "name": "stdout",
     "output_type": "stream",
     "text": [
      "            Prediction       test\n",
      "2020-08-01   57.769594  44.468303\n",
      "2020-09-01   48.339394   0.000000\n",
      "2020-10-01   51.236971   6.430842\n",
      "2020-11-01   51.259298  48.785316\n",
      "2020-12-01   49.056596  65.772139\n",
      "31.01\n"
     ]
    }
   ],
   "source": [
    "from sklearn.gaussian_process.kernels import DotProduct, WhiteKernel\n",
    "\n",
    "kernel = DotProduct() + WhiteKernel()\n",
    "gp = GaussianProcessRegressor(kernel = kernel, n_restarts_optimizer=0).fit(df_dir_train_X, df_dir_train_y)\n",
    "\n",
    "pred_rmse = gp.predict((np.atleast_2d(df_dir_train_X[-1])))\n",
    "pred_rmse = pd.DataFrame(list(pred_rmse[0]), columns = ['Prediction'], index = pd.date_range(start = '2020-08-01', periods=5, freq='MS'))\n",
    "pred_rmse['test'] = list(df_dir_train_y[-1])\n",
    "print(pred_rmse)\n",
    "rms = sqrt(mean_squared_error(pred_rmse['test'], pred_rmse['Prediction']))\n",
    "print(round(rms,2))\n",
    "\n",
    "\n",
    "pred , sigma = gp.predict(x_in ,return_std=True)\n",
    "pred = pd.DataFrame(list(pred[0]), columns = ['Prediction'], index = pd.date_range(start = '2020-08-01', periods=5, freq='MS'))\n",
    "#print(pred.round(2))\n",
    "pred['lower_95']=pred['Prediction'].round(2) - 1.9600 * sigma\n",
    "pred['upper_95']=pred['Prediction'].round(2) + 1.9600 * sigma\n",
    "pred['lower_80']=pred['Prediction'].round(2) - 1.282 * sigma\n",
    "pred['upper_80']=pred['Prediction'].round(2) + 1.282 * sigma"
   ]
  },
  {
   "cell_type": "code",
   "execution_count": 54,
   "metadata": {
    "scrolled": false
   },
   "outputs": [
    {
     "data": {
      "image/png": "[encoded data removed]",
      "text/plain": [
       "<Figure size 1152x576 with 1 Axes>"
      ]
     },
     "metadata": {
      "needs_background": "light"
     },
     "output_type": "display_data"
    }
   ],
   "source": [
    "plt.figure(figsize=(16,8))\n",
    "plt.plot(df_dir_plot['ASP'], label = \"Input\", lw = 3)\n",
    "plt.plot(pred['Prediction'], label='Predicted', lw = 3)\n",
    "plt.fill_between(pred.index,pred.lower_80, pred.upper_80,alpha=0.3,color='slategrey')\n",
    "plt.legend(loc='best')\n",
    "plt.show()"
   ]
  },
  {
   "cell_type": "code",
   "execution_count": 55,
   "metadata": {},
   "outputs": [
    {
     "data": {
      "text/plain": [
       "2020-08-01    49.224851\n",
       "2020-09-01    57.190180\n",
       "2020-10-01    62.392610\n",
       "2020-11-01    57.154975\n",
       "2020-12-01    58.626446\n",
       "Freq: MS, Name: Prediction, dtype: float64"
      ]
     },
     "execution_count": 55,
     "metadata": {},
     "output_type": "execute_result"
    }
   ],
   "source": [
    "pred['Prediction']"
   ]
  },
  {
   "cell_type": "code",
   "execution_count": 56,
   "metadata": {},
   "outputs": [
    {
     "data": {
      "text/plain": [
       "2020-08-01     4.368397\n",
       "2020-09-01    12.338397\n",
       "2020-10-01    17.538397\n",
       "2020-11-01    12.298397\n",
       "2020-12-01    13.778397\n",
       "Freq: MS, Name: lower_95, dtype: float64"
      ]
     },
     "execution_count": 56,
     "metadata": {},
     "output_type": "execute_result"
    }
   ],
   "source": [
    "pred['lower_95']"
   ]
  },
  {
   "cell_type": "code",
   "execution_count": 57,
   "metadata": {
    "scrolled": true
   },
   "outputs": [
    {
     "data": {
      "text/plain": [
       "2020-08-01    78.55661\n",
       "2020-09-01    86.52661\n",
       "2020-10-01    91.72661\n",
       "2020-11-01    86.48661\n",
       "2020-12-01    87.96661\n",
       "Freq: MS, Name: upper_80, dtype: float64"
      ]
     },
     "execution_count": 57,
     "metadata": {},
     "output_type": "execute_result"
    }
   ],
   "source": [
    "pred['upper_80']"
   ]
  },
  {
   "cell_type": "code",
   "execution_count": null,
   "metadata": {},
   "outputs": [],
   "source": []
  },
  {
   "cell_type": "code",
   "execution_count": null,
   "metadata": {},
   "outputs": [],
   "source": []
  }
 ],
 "metadata": {
  "kernelspec": {
   "display_name": "Python 3",
   "language": "python",
   "name": "python3"
  },
  "language_info": {
   "codemirror_mode": {
    "name": "ipython",
    "version": 3
   },
   "file_extension": ".py",
   "mimetype": "text/x-python",
   "name": "python",
   "nbconvert_exporter": "python",
   "pygments_lexer": "ipython3",
   "version": "3.6.8"
  }
 },
 "nbformat": 4,
 "nbformat_minor": 4
}
