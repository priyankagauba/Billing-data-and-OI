{
 "cells": [
  {
   "cell_type": "code",
   "execution_count": 1,
   "metadata": {},
   "outputs": [
    {
     "name": "stdout",
     "output_type": "stream",
     "text": [
      "Automatically created module for IPython interactive environment\n"
     ]
    }
   ],
   "source": [
    "import warnings\n",
    "warnings.filterwarnings('ignore')\n",
    "import pandas as pd\n",
    "import numpy as np                  \n",
    "import matplotlib.pyplot as plt                    # plots\n",
    "import seaborn as sns                              # more plots\n",
    "from dateutil.relativedelta import relativedelta   # working with dates with style\n",
    "%matplotlib inline\n",
    "from datetime import datetime, timedelta\n",
    "from scipy import stats\n",
    "from math import sqrt\n",
    "from sklearn.metrics import mean_squared_error\n",
    "from math import sqrt\n",
    "import statistics\n",
    "from numpy import array\n",
    "print(__doc__)\n",
    "import numpy as np\n",
    "from matplotlib import pyplot as plt\n",
    "from sklearn.gaussian_process import GaussianProcessRegressor\n",
    "from sklearn.gaussian_process.kernels import RBF, ConstantKernel as C\n",
    "np.random.seed(1)"
   ]
  },
  {
   "cell_type": "code",
   "execution_count": 2,
   "metadata": {},
   "outputs": [],
   "source": [
    "data = pd.read_excel(r'C:\\Users\\u22v09\\Desktop\\Billing Data 2016 to July 2020.xlsx',skiprows=3)"
   ]
  },
  {
   "cell_type": "code",
   "execution_count": 3,
   "metadata": {
    "scrolled": true
   },
   "outputs": [
    {
     "data": {
      "text/html": [
       "<div>\n",
       "<style scoped>\n",
       "    .dataframe tbody tr th:only-of-type {\n",
       "        vertical-align: middle;\n",
       "    }\n",
       "\n",
       "    .dataframe tbody tr th {\n",
       "        vertical-align: top;\n",
       "    }\n",
       "\n",
       "    .dataframe thead th {\n",
       "        text-align: right;\n",
       "    }\n",
       "</style>\n",
       "<table border=\"1\" class=\"dataframe\">\n",
       "  <thead>\n",
       "    <tr style=\"text-align: right;\">\n",
       "      <th></th>\n",
       "      <th>Customer Segment</th>\n",
       "      <th>Month</th>\n",
       "      <th>2016</th>\n",
       "      <th>2017</th>\n",
       "      <th>2018</th>\n",
       "      <th>2019</th>\n",
       "      <th>2020</th>\n",
       "      <th>Grand Total</th>\n",
       "    </tr>\n",
       "  </thead>\n",
       "  <tbody>\n",
       "    <tr>\n",
       "      <th>0</th>\n",
       "      <td>DIR</td>\n",
       "      <td>Jan</td>\n",
       "      <td>80.867485</td>\n",
       "      <td>77.740950</td>\n",
       "      <td>104.021080</td>\n",
       "      <td>41.170140</td>\n",
       "      <td>306.175585</td>\n",
       "      <td>609.975240</td>\n",
       "    </tr>\n",
       "    <tr>\n",
       "      <th>1</th>\n",
       "      <td>NaN</td>\n",
       "      <td>Feb</td>\n",
       "      <td>173.982527</td>\n",
       "      <td>79.404745</td>\n",
       "      <td>165.949030</td>\n",
       "      <td>95.725120</td>\n",
       "      <td>219.884278</td>\n",
       "      <td>734.945700</td>\n",
       "    </tr>\n",
       "    <tr>\n",
       "      <th>2</th>\n",
       "      <td>NaN</td>\n",
       "      <td>March</td>\n",
       "      <td>159.529362</td>\n",
       "      <td>207.481385</td>\n",
       "      <td>131.805930</td>\n",
       "      <td>117.128542</td>\n",
       "      <td>111.507920</td>\n",
       "      <td>727.453139</td>\n",
       "    </tr>\n",
       "    <tr>\n",
       "      <th>3</th>\n",
       "      <td>NaN</td>\n",
       "      <td>April</td>\n",
       "      <td>96.101656</td>\n",
       "      <td>129.967310</td>\n",
       "      <td>103.114630</td>\n",
       "      <td>132.594930</td>\n",
       "      <td>0.000000</td>\n",
       "      <td>461.778526</td>\n",
       "    </tr>\n",
       "    <tr>\n",
       "      <th>4</th>\n",
       "      <td>NaN</td>\n",
       "      <td>May</td>\n",
       "      <td>105.910721</td>\n",
       "      <td>114.721740</td>\n",
       "      <td>132.691260</td>\n",
       "      <td>133.538310</td>\n",
       "      <td>93.440367</td>\n",
       "      <td>580.302398</td>\n",
       "    </tr>\n",
       "    <tr>\n",
       "      <th>...</th>\n",
       "      <td>...</td>\n",
       "      <td>...</td>\n",
       "      <td>...</td>\n",
       "      <td>...</td>\n",
       "      <td>...</td>\n",
       "      <td>...</td>\n",
       "      <td>...</td>\n",
       "      <td>...</td>\n",
       "    </tr>\n",
       "    <tr>\n",
       "      <th>56</th>\n",
       "      <td>NaN</td>\n",
       "      <td>Sep</td>\n",
       "      <td>53.417010</td>\n",
       "      <td>58.696649</td>\n",
       "      <td>56.496137</td>\n",
       "      <td>65.652423</td>\n",
       "      <td>NaN</td>\n",
       "      <td>234.262219</td>\n",
       "    </tr>\n",
       "    <tr>\n",
       "      <th>57</th>\n",
       "      <td>NaN</td>\n",
       "      <td>Oct</td>\n",
       "      <td>52.051859</td>\n",
       "      <td>58.591214</td>\n",
       "      <td>79.972150</td>\n",
       "      <td>61.446451</td>\n",
       "      <td>NaN</td>\n",
       "      <td>252.061675</td>\n",
       "    </tr>\n",
       "    <tr>\n",
       "      <th>58</th>\n",
       "      <td>NaN</td>\n",
       "      <td>Nov</td>\n",
       "      <td>39.181285</td>\n",
       "      <td>81.330690</td>\n",
       "      <td>54.775610</td>\n",
       "      <td>97.236324</td>\n",
       "      <td>NaN</td>\n",
       "      <td>272.523909</td>\n",
       "    </tr>\n",
       "    <tr>\n",
       "      <th>59</th>\n",
       "      <td>NaN</td>\n",
       "      <td>Dec</td>\n",
       "      <td>68.341527</td>\n",
       "      <td>80.893484</td>\n",
       "      <td>65.909737</td>\n",
       "      <td>69.605557</td>\n",
       "      <td>NaN</td>\n",
       "      <td>284.750305</td>\n",
       "    </tr>\n",
       "    <tr>\n",
       "      <th>60</th>\n",
       "      <td>Grand Total</td>\n",
       "      <td>NaN</td>\n",
       "      <td>3183.979118</td>\n",
       "      <td>3614.531231</td>\n",
       "      <td>3473.541577</td>\n",
       "      <td>4024.004680</td>\n",
       "      <td>1529.335687</td>\n",
       "      <td>15825.392292</td>\n",
       "    </tr>\n",
       "  </tbody>\n",
       "</table>\n",
       "<p>61 rows × 8 columns</p>\n",
       "</div>"
      ],
      "text/plain": [
       "   Customer Segment   Month         2016         2017         2018  \\\n",
       "0                DIR   Jan     80.867485    77.740950   104.021080   \n",
       "1                NaN    Feb   173.982527    79.404745   165.949030   \n",
       "2                NaN  March   159.529362   207.481385   131.805930   \n",
       "3                NaN  April    96.101656   129.967310   103.114630   \n",
       "4                NaN    May   105.910721   114.721740   132.691260   \n",
       "..               ...    ...          ...          ...          ...   \n",
       "56               NaN    Sep    53.417010    58.696649    56.496137   \n",
       "57               NaN    Oct    52.051859    58.591214    79.972150   \n",
       "58               NaN    Nov    39.181285    81.330690    54.775610   \n",
       "59               NaN    Dec    68.341527    80.893484    65.909737   \n",
       "60       Grand Total    NaN  3183.979118  3614.531231  3473.541577   \n",
       "\n",
       "           2019         2020   Grand Total  \n",
       "0     41.170140   306.175585    609.975240  \n",
       "1     95.725120   219.884278    734.945700  \n",
       "2    117.128542   111.507920    727.453139  \n",
       "3    132.594930     0.000000    461.778526  \n",
       "4    133.538310    93.440367    580.302398  \n",
       "..          ...          ...           ...  \n",
       "56    65.652423          NaN    234.262219  \n",
       "57    61.446451          NaN    252.061675  \n",
       "58    97.236324          NaN    272.523909  \n",
       "59    69.605557          NaN    284.750305  \n",
       "60  4024.004680  1529.335687  15825.392292  \n",
       "\n",
       "[61 rows x 8 columns]"
      ]
     },
     "execution_count": 3,
     "metadata": {},
     "output_type": "execute_result"
    }
   ],
   "source": [
    "data"
   ]
  },
  {
   "cell_type": "code",
   "execution_count": 4,
   "metadata": {},
   "outputs": [],
   "source": [
    "# data[['Customer Segment']].bfill(axis = 0) \n",
    "data['Customer Segment ']= data['Customer Segment '].fillna(method = \"ffill\")"
   ]
  },
  {
   "cell_type": "code",
   "execution_count": 5,
   "metadata": {},
   "outputs": [],
   "source": [
    "data=data[data['Customer Segment ']== 'DIR']"
   ]
  },
  {
   "cell_type": "code",
   "execution_count": 6,
   "metadata": {},
   "outputs": [],
   "source": [
    "data.drop('Grand Total', axis = 1, inplace = True)\n",
    "data=pd.melt(data, id_vars =['Month','Customer Segment '])\n",
    "data=data.dropna()"
   ]
  },
  {
   "cell_type": "code",
   "execution_count": 7,
   "metadata": {},
   "outputs": [
    {
     "data": {
      "text/html": [
       "<div>\n",
       "<style scoped>\n",
       "    .dataframe tbody tr th:only-of-type {\n",
       "        vertical-align: middle;\n",
       "    }\n",
       "\n",
       "    .dataframe tbody tr th {\n",
       "        vertical-align: top;\n",
       "    }\n",
       "\n",
       "    .dataframe thead th {\n",
       "        text-align: right;\n",
       "    }\n",
       "</style>\n",
       "<table border=\"1\" class=\"dataframe\">\n",
       "  <thead>\n",
       "    <tr style=\"text-align: right;\">\n",
       "      <th></th>\n",
       "      <th>Month</th>\n",
       "      <th>Customer Segment</th>\n",
       "      <th>variable</th>\n",
       "      <th>value</th>\n",
       "      <th>Date</th>\n",
       "    </tr>\n",
       "  </thead>\n",
       "  <tbody>\n",
       "    <tr>\n",
       "      <th>0</th>\n",
       "      <td>Jan</td>\n",
       "      <td>DIR</td>\n",
       "      <td>2016</td>\n",
       "      <td>80.867485</td>\n",
       "      <td>2016-01-01</td>\n",
       "    </tr>\n",
       "    <tr>\n",
       "      <th>1</th>\n",
       "      <td>Feb</td>\n",
       "      <td>DIR</td>\n",
       "      <td>2016</td>\n",
       "      <td>173.982527</td>\n",
       "      <td>2016-02-01</td>\n",
       "    </tr>\n",
       "    <tr>\n",
       "      <th>2</th>\n",
       "      <td>March</td>\n",
       "      <td>DIR</td>\n",
       "      <td>2016</td>\n",
       "      <td>159.529362</td>\n",
       "      <td>2016-03-01</td>\n",
       "    </tr>\n",
       "    <tr>\n",
       "      <th>3</th>\n",
       "      <td>April</td>\n",
       "      <td>DIR</td>\n",
       "      <td>2016</td>\n",
       "      <td>96.101656</td>\n",
       "      <td>2016-04-01</td>\n",
       "    </tr>\n",
       "    <tr>\n",
       "      <th>4</th>\n",
       "      <td>May</td>\n",
       "      <td>DIR</td>\n",
       "      <td>2016</td>\n",
       "      <td>105.910721</td>\n",
       "      <td>2016-05-01</td>\n",
       "    </tr>\n",
       "  </tbody>\n",
       "</table>\n",
       "</div>"
      ],
      "text/plain": [
       "   Month Customer Segment  variable       value       Date\n",
       "0   Jan                DIR     2016   80.867485 2016-01-01\n",
       "1    Feb               DIR     2016  173.982527 2016-02-01\n",
       "2  March               DIR     2016  159.529362 2016-03-01\n",
       "3  April               DIR     2016   96.101656 2016-04-01\n",
       "4    May               DIR     2016  105.910721 2016-05-01"
      ]
     },
     "execution_count": 7,
     "metadata": {},
     "output_type": "execute_result"
    }
   ],
   "source": [
    "df=data.copy()\n",
    "df['Date'] =pd.to_datetime(df.variable.astype(str) + '/' + df.Month.astype(str) + '/01')\n",
    "df.head()"
   ]
  },
  {
   "cell_type": "code",
   "execution_count": 8,
   "metadata": {},
   "outputs": [],
   "source": [
    "df = df.sort_values('Date')\n",
    "df = df.set_index('Date')"
   ]
  },
  {
   "cell_type": "code",
   "execution_count": 9,
   "metadata": {},
   "outputs": [
    {
     "data": {
      "text/html": [
       "<div>\n",
       "<style scoped>\n",
       "    .dataframe tbody tr th:only-of-type {\n",
       "        vertical-align: middle;\n",
       "    }\n",
       "\n",
       "    .dataframe tbody tr th {\n",
       "        vertical-align: top;\n",
       "    }\n",
       "\n",
       "    .dataframe thead th {\n",
       "        text-align: right;\n",
       "    }\n",
       "</style>\n",
       "<table border=\"1\" class=\"dataframe\">\n",
       "  <thead>\n",
       "    <tr style=\"text-align: right;\">\n",
       "      <th></th>\n",
       "      <th>Month</th>\n",
       "      <th>Customer Segment</th>\n",
       "      <th>variable</th>\n",
       "      <th>value</th>\n",
       "    </tr>\n",
       "    <tr>\n",
       "      <th>Date</th>\n",
       "      <th></th>\n",
       "      <th></th>\n",
       "      <th></th>\n",
       "      <th></th>\n",
       "    </tr>\n",
       "  </thead>\n",
       "  <tbody>\n",
       "    <tr>\n",
       "      <th>2016-01-01</th>\n",
       "      <td>Jan</td>\n",
       "      <td>DIR</td>\n",
       "      <td>2016</td>\n",
       "      <td>80.867485</td>\n",
       "    </tr>\n",
       "    <tr>\n",
       "      <th>2016-02-01</th>\n",
       "      <td>Feb</td>\n",
       "      <td>DIR</td>\n",
       "      <td>2016</td>\n",
       "      <td>173.982527</td>\n",
       "    </tr>\n",
       "    <tr>\n",
       "      <th>2016-03-01</th>\n",
       "      <td>March</td>\n",
       "      <td>DIR</td>\n",
       "      <td>2016</td>\n",
       "      <td>159.529362</td>\n",
       "    </tr>\n",
       "    <tr>\n",
       "      <th>2016-04-01</th>\n",
       "      <td>April</td>\n",
       "      <td>DIR</td>\n",
       "      <td>2016</td>\n",
       "      <td>96.101656</td>\n",
       "    </tr>\n",
       "    <tr>\n",
       "      <th>2016-05-01</th>\n",
       "      <td>May</td>\n",
       "      <td>DIR</td>\n",
       "      <td>2016</td>\n",
       "      <td>105.910721</td>\n",
       "    </tr>\n",
       "  </tbody>\n",
       "</table>\n",
       "</div>"
      ],
      "text/plain": [
       "            Month Customer Segment  variable       value\n",
       "Date                                                    \n",
       "2016-01-01   Jan                DIR     2016   80.867485\n",
       "2016-02-01    Feb               DIR     2016  173.982527\n",
       "2016-03-01  March               DIR     2016  159.529362\n",
       "2016-04-01  April               DIR     2016   96.101656\n",
       "2016-05-01    May               DIR     2016  105.910721"
      ]
     },
     "execution_count": 9,
     "metadata": {},
     "output_type": "execute_result"
    }
   ],
   "source": [
    "df.head()"
   ]
  },
  {
   "cell_type": "code",
   "execution_count": 10,
   "metadata": {
    "scrolled": false
   },
   "outputs": [
    {
     "data": {
      "text/plain": [
       "<matplotlib.axes._subplots.AxesSubplot at 0x1f1ab761be0>"
      ]
     },
     "execution_count": 10,
     "metadata": {},
     "output_type": "execute_result"
    },
    {
     "data": {
      "image/png": "[encoded data removed]",
      "text/plain": [
       "<Figure size 1440x576 with 1 Axes>"
      ]
     },
     "metadata": {
      "needs_background": "light"
     },
     "output_type": "display_data"
    }
   ],
   "source": [
    "df=df.rename(columns={'value':'ASP'})\n",
    "df['ASP'].plot(figsize = (20,8), lw = 4, grid = True)"
   ]
  },
  {
   "cell_type": "code",
   "execution_count": 11,
   "metadata": {},
   "outputs": [],
   "source": [
    "df = df[['ASP']]"
   ]
  },
  {
   "cell_type": "code",
   "execution_count": 12,
   "metadata": {},
   "outputs": [
    {
     "data": {
      "text/html": [
       "<div>\n",
       "<style scoped>\n",
       "    .dataframe tbody tr th:only-of-type {\n",
       "        vertical-align: middle;\n",
       "    }\n",
       "\n",
       "    .dataframe tbody tr th {\n",
       "        vertical-align: top;\n",
       "    }\n",
       "\n",
       "    .dataframe thead th {\n",
       "        text-align: right;\n",
       "    }\n",
       "</style>\n",
       "<table border=\"1\" class=\"dataframe\">\n",
       "  <thead>\n",
       "    <tr style=\"text-align: right;\">\n",
       "      <th></th>\n",
       "      <th>ASP</th>\n",
       "    </tr>\n",
       "    <tr>\n",
       "      <th>Date</th>\n",
       "      <th></th>\n",
       "    </tr>\n",
       "  </thead>\n",
       "  <tbody>\n",
       "    <tr>\n",
       "      <th>2016-01-01</th>\n",
       "      <td>80.867485</td>\n",
       "    </tr>\n",
       "    <tr>\n",
       "      <th>2016-02-01</th>\n",
       "      <td>173.982527</td>\n",
       "    </tr>\n",
       "    <tr>\n",
       "      <th>2016-03-01</th>\n",
       "      <td>159.529362</td>\n",
       "    </tr>\n",
       "    <tr>\n",
       "      <th>2016-04-01</th>\n",
       "      <td>96.101656</td>\n",
       "    </tr>\n",
       "    <tr>\n",
       "      <th>2016-05-01</th>\n",
       "      <td>105.910721</td>\n",
       "    </tr>\n",
       "  </tbody>\n",
       "</table>\n",
       "</div>"
      ],
      "text/plain": [
       "                   ASP\n",
       "Date                  \n",
       "2016-01-01   80.867485\n",
       "2016-02-01  173.982527\n",
       "2016-03-01  159.529362\n",
       "2016-04-01   96.101656\n",
       "2016-05-01  105.910721"
      ]
     },
     "execution_count": 12,
     "metadata": {},
     "output_type": "execute_result"
    }
   ],
   "source": [
    "df.head()"
   ]
  },
  {
   "cell_type": "code",
   "execution_count": 13,
   "metadata": {},
   "outputs": [],
   "source": [
    "def split_sequence(sequence, n_steps):\n",
    "    X, y = list(), list()\n",
    "    for i in range(len(sequence)):\n",
    "        end_ix = i + n_steps\n",
    "        if end_ix > len(sequence)-1:\n",
    "            break\n",
    "        seq_x, seq_y = sequence[i:end_ix], sequence[end_ix]\n",
    "        X.append(seq_x)\n",
    "        y.append(seq_y)\n",
    "    return array(X), array(y)\n",
    "\n",
    "raw_seq = list(df['ASP'].values)\n",
    "# raw_seq = list(df)\n",
    "n_steps = 1\n",
    "X, y = split_sequence(raw_seq, n_steps = n_steps)\n",
    "t =[]\n",
    "x =[]\n",
    "for i in range(len(X)):\n",
    "    t.append(X[i])\n",
    "    x.append(y[i])\n",
    "inp = pd.DataFrame(t)\n",
    "inp = inp.rename(columns= {0:'in'})\n",
    "out = pd.DataFrame(x)\n",
    "out = out.rename(columns= {0:'out'})\n",
    "df = inp.merge(out, left_index = True, right_index = True)"
   ]
  },
  {
   "cell_type": "code",
   "execution_count": 14,
   "metadata": {},
   "outputs": [
    {
     "data": {
      "text/html": [
       "<div>\n",
       "<style scoped>\n",
       "    .dataframe tbody tr th:only-of-type {\n",
       "        vertical-align: middle;\n",
       "    }\n",
       "\n",
       "    .dataframe tbody tr th {\n",
       "        vertical-align: top;\n",
       "    }\n",
       "\n",
       "    .dataframe thead th {\n",
       "        text-align: right;\n",
       "    }\n",
       "</style>\n",
       "<table border=\"1\" class=\"dataframe\">\n",
       "  <thead>\n",
       "    <tr style=\"text-align: right;\">\n",
       "      <th></th>\n",
       "      <th>in</th>\n",
       "      <th>out</th>\n",
       "    </tr>\n",
       "  </thead>\n",
       "  <tbody>\n",
       "    <tr>\n",
       "      <th>0</th>\n",
       "      <td>80.867485</td>\n",
       "      <td>173.982527</td>\n",
       "    </tr>\n",
       "    <tr>\n",
       "      <th>1</th>\n",
       "      <td>173.982527</td>\n",
       "      <td>159.529362</td>\n",
       "    </tr>\n",
       "    <tr>\n",
       "      <th>2</th>\n",
       "      <td>159.529362</td>\n",
       "      <td>96.101656</td>\n",
       "    </tr>\n",
       "    <tr>\n",
       "      <th>3</th>\n",
       "      <td>96.101656</td>\n",
       "      <td>105.910721</td>\n",
       "    </tr>\n",
       "    <tr>\n",
       "      <th>4</th>\n",
       "      <td>105.910721</td>\n",
       "      <td>140.438678</td>\n",
       "    </tr>\n",
       "  </tbody>\n",
       "</table>\n",
       "</div>"
      ],
      "text/plain": [
       "           in         out\n",
       "0   80.867485  173.982527\n",
       "1  173.982527  159.529362\n",
       "2  159.529362   96.101656\n",
       "3   96.101656  105.910721\n",
       "4  105.910721  140.438678"
      ]
     },
     "execution_count": 14,
     "metadata": {},
     "output_type": "execute_result"
    }
   ],
   "source": [
    "df.head()"
   ]
  },
  {
   "cell_type": "markdown",
   "metadata": {},
   "source": [
    "# Test - Train Split"
   ]
  },
  {
   "cell_type": "code",
   "execution_count": 15,
   "metadata": {},
   "outputs": [
    {
     "data": {
      "text/plain": [
       "54"
      ]
     },
     "execution_count": 15,
     "metadata": {},
     "output_type": "execute_result"
    }
   ],
   "source": [
    "X = np.atleast_2d(df['in'].values).T\n",
    "len(X)"
   ]
  },
  {
   "cell_type": "code",
   "execution_count": 16,
   "metadata": {},
   "outputs": [
    {
     "data": {
      "text/plain": [
       "54"
      ]
     },
     "execution_count": 16,
     "metadata": {},
     "output_type": "execute_result"
    }
   ],
   "source": [
    "y = df['out'].ravel()\n",
    "len(y)"
   ]
  },
  {
   "cell_type": "code",
   "execution_count": 17,
   "metadata": {},
   "outputs": [],
   "source": [
    "train_X = X[:46]\n",
    "train_y = y[:46]\n",
    "test_X = X[45:]\n",
    "test_y = y[45:]"
   ]
  },
  {
   "cell_type": "code",
   "execution_count": 18,
   "metadata": {},
   "outputs": [
    {
     "data": {
      "image/png": "[encoded data removed]",
      "text/plain": [
       "<Figure size 1152x576 with 1 Axes>"
      ]
     },
     "metadata": {
      "needs_background": "light"
     },
     "output_type": "display_data"
    }
   ],
   "source": [
    "from sklearn.gaussian_process.kernels import DotProduct, WhiteKernel\n",
    "kernel = DotProduct() + WhiteKernel()\n",
    "gp = GaussianProcessRegressor(kernel = kernel, n_restarts_optimizer=0).fit(train_X, train_y)\n",
    "pred, sigma = gp.predict(test_X, return_std=True)\n",
    "rms = sqrt(mean_squared_error(test_y, pred))\n",
    "out = pd.DataFrame(train_y).append(pd.DataFrame(test_y)).reset_index()\n",
    "\n",
    "plt.figure(figsize=(16,8))\n",
    "# plt.plot(train_y, label = \"Training\")\n",
    "plt.plot(test_y, label='Test', lw = 3)\n",
    "plt.plot(pred, label='Predicted', lw = 3)\n",
    "plt.legend(loc='best')\n",
    "plt.title(rms)\n",
    "plt.show()"
   ]
  },
  {
   "cell_type": "code",
   "execution_count": 19,
   "metadata": {},
   "outputs": [],
   "source": [
    "# from sklearn.gaussian_process import GaussianProcessRegressor as GPR\n",
    "# from sklearn.gaussian_process.kernels import RBF, ConstantKernel as C\n",
    "\n",
    "# lbound = 1e-2\n",
    "# rbound = 1e1\n",
    "# n_restarts = 50\n",
    "# n_features = 1 # Actually determined elsewhere in the code\n",
    "# kernel = C(1.0, (lbound,rbound)) * RBF(n_features*[10], (lbound,rbound))\n",
    "# gp = GPR(kernel=kernel, n_restarts_optimizer=n_restarts).fit(train_X, train_y)\n",
    "# test_model, sigma2_pred = gp.predict(test_X, return_std=True)"
   ]
  },
  {
   "cell_type": "code",
   "execution_count": 20,
   "metadata": {},
   "outputs": [],
   "source": [
    "# test_model"
   ]
  },
  {
   "cell_type": "code",
   "execution_count": 21,
   "metadata": {},
   "outputs": [],
   "source": [
    "# kernel = 1.0 * RBF(length_scale=100.0, length_scale_bounds=(1e-2, 1e3)) \\\n",
    "#     + WhiteKernel(noise_level=1, noise_level_bounds=(1e-10, 1e+1))\n",
    "# gp = GPR(kernel=kernel, alpha = 0.0).fit(train_X, train_y)\n",
    "# test_model, sigma2_pred = gp.predict(test_X, return_std=True)\n",
    "# test_model"
   ]
  },
  {
   "cell_type": "code",
   "execution_count": 22,
   "metadata": {},
   "outputs": [],
   "source": [
    "# kernel = 1.0 * RBF(length_scale=1.0, length_scale_bounds=(1e-2, 1e3)) \\\n",
    "#     + WhiteKernel(noise_level=1e-5, noise_level_bounds=(1e-10, 1e+1))\n",
    "# gp = GPR(kernel=kernel, alpha = 0.0).fit(train_X, train_y)\n",
    "# test_model, sigma2_pred = gp.predict(test_X, return_std=True)\n",
    "# test_model"
   ]
  },
  {
   "cell_type": "code",
   "execution_count": 23,
   "metadata": {},
   "outputs": [],
   "source": [
    "# kernel = 1.0 * RBF(length_scale=5000.0, length_scale_bounds=(1e-2, 1e3)) \\\n",
    "#     + WhiteKernel(noise_level=1, noise_level_bounds=(1e-10, 1e+1))\n",
    "# gp = GPR(kernel=kernel, alpha = 0.0).fit(train_X, train_y)\n",
    "# test_model, sigma2_pred = gp.predict(test_X, return_std=True)\n",
    "# test_model"
   ]
  },
  {
   "cell_type": "code",
   "execution_count": 24,
   "metadata": {},
   "outputs": [],
   "source": [
    "# plt.figure()\n",
    "# plt.plot(x, f(x), 'r:', label=r'$f(x) = x\\,\\sin(x)$')\n",
    "# plt.errorbar(X.ravel(), y, dy, fmt='r.', markersize=10, label='Observations')\n",
    "# plt.plot(x, y_pred, 'b-', label='Prediction')\n",
    "# plt.fill(np.concatenate([x, x[::-1]]),\n",
    "#          np.concatenate([y_pred - 1.9600 * sigma,\n",
    "#                         (y_pred + 1.9600 * sigma)[::-1]]),\n",
    "#          alpha=.5, fc='b', ec='None', label='95% confidence interval')\n",
    "# plt.xlabel('$x$')\n",
    "# plt.ylabel('$f(x)$')\n",
    "# plt.ylim(-10, 20)\n",
    "# plt.legend(loc='upper left')\n",
    "\n",
    "# plt.show()"
   ]
  }
 ],
 "metadata": {
  "kernelspec": {
   "display_name": "Python 3",
   "language": "python",
   "name": "python3"
  },
  "language_info": {
   "codemirror_mode": {
    "name": "ipython",
    "version": 3
   },
   "file_extension": ".py",
   "mimetype": "text/x-python",
   "name": "python",
   "nbconvert_exporter": "python",
   "pygments_lexer": "ipython3",
   "version": "3.6.8"
  }
 },
 "nbformat": 4,
 "nbformat_minor": 4
}
